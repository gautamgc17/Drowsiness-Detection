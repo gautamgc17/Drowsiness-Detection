{
 "cells": [
  {
   "cell_type": "code",
   "execution_count": 1,
   "id": "3eb07623",
   "metadata": {},
   "outputs": [],
   "source": [
    "import winsound\n",
    "from scipy.spatial import distance as dist\n",
    "import cv2\n",
    "import dlib\n",
    "import imutils \n",
    "from imutils import face_utils"
   ]
  },
  {
   "cell_type": "code",
   "execution_count": 6,
   "id": "7b9061f7",
   "metadata": {},
   "outputs": [],
   "source": [
    "frequency = 1500    # frequency of sound\n",
    "duration = 1000    # duration of 1 beep sound\n",
    "earThresh = 0.2    \n",
    "earFrames = 50    # min consecutive frames for eye closures to consider for drowsiness\n",
    "count = 0"
   ]
  },
  {
   "cell_type": "code",
   "execution_count": 3,
   "id": "33995eaf",
   "metadata": {},
   "outputs": [],
   "source": [
    "# face detector similar to haarcascade\n",
    "detector = dlib.get_frontal_face_detector() \n",
    "\n",
    "# outputs a set of point locations that define the pose of the object - facial landmark predictor\n",
    "predictor = dlib.shape_predictor('shape_predictor_68_face_landmarks.dat')"
   ]
  },
  {
   "cell_type": "code",
   "execution_count": 4,
   "id": "4f79a4da",
   "metadata": {},
   "outputs": [
    {
     "name": "stdout",
     "output_type": "stream",
     "text": [
      "Left Eye start and end coordinates:  42 48\n",
      "Right Eye start and end coordinates:  36 42\n"
     ]
    }
   ],
   "source": [
    "# EAR refers to the aspect ratio of the eye region i.e ratio of the horizontal length to the vertical length\n",
    "\n",
    "(lStart , lEnd) = face_utils.FACIAL_LANDMARKS_IDXS['left_eye']\n",
    "(rStart , rEnd) = face_utils.FACIAL_LANDMARKS_IDXS['right_eye']\n",
    "\n",
    "print('Left Eye start and end coordinates: ', lStart , lEnd)\n",
    "print('Right Eye start and end coordinates: ', rStart , rEnd)"
   ]
  },
  {
   "cell_type": "code",
   "execution_count": 5,
   "id": "82dabe3a",
   "metadata": {},
   "outputs": [],
   "source": [
    "def eyeAspectRatio(eye):\n",
    "    A = dist.euclidean(eye[1] , eye[5])\n",
    "    B = dist.euclidean(eye[2] , eye[4])\n",
    "    C = dist.euclidean(eye[0] , eye[3])\n",
    "    ear = (A + B)/(2*C)\n",
    "    return ear"
   ]
  },
  {
   "cell_type": "code",
   "execution_count": 9,
   "id": "086a4520",
   "metadata": {},
   "outputs": [],
   "source": [
    "cap = cv2.VideoCapture(0)\n",
    "\n",
    "while True:\n",
    "    # load the input image, resize it, and convert it to grayscale\n",
    "    res , frame = cap.read()\n",
    "    if res == False:\n",
    "        print(\"Can't receive frame (stream end?). Exiting ...\")\n",
    "        break\n",
    "        \n",
    "    frame = imutils.resize(frame , width=750)\n",
    "    gray = cv2.cvtColor(frame , cv2.COLOR_BGR2GRAY)\n",
    "     \n",
    "    # detect faces in the grayscale image - coordinates of face (x , y , w , h) \n",
    "    rects = detector(gray , 0)  # second argument indicates that we should upsample the image \n",
    "    \n",
    "    for rect in rects:\n",
    "        \n",
    "        # determine the facial landmarks for the face region\n",
    "        shape = predictor(gray , rect)\n",
    "        # convert the landmark (x, y)-coordinates to a NumPy array\n",
    "        shape = face_utils.shape_to_np(shape)\n",
    "        \n",
    "        leftEye = shape[lStart:lEnd]\n",
    "        rightEye = shape[rStart:rEnd]\n",
    "        \n",
    "        # compute eye aspect ratio for left and right eye\n",
    "        leftEAR = eyeAspectRatio(leftEye)\n",
    "        rightEAR = eyeAspectRatio(rightEye)\n",
    "        \n",
    "        # if the avarage eye aspect ratio of left and right eye less than 0.2, the status is sleeping\n",
    "        ear = (leftEAR + rightEAR)/2\n",
    "        \n",
    "        # Finds the convex hull of the point sets\n",
    "        leftEyeHull = cv2.convexHull(leftEye)\n",
    "        rightEyeHull = cv2.convexHull(rightEye)\n",
    "        \n",
    "        # Draws contours outlines\n",
    "        cv2.drawContours(frame , [leftEyeHull] , -1 , (0,0,255) , 1, )\n",
    "        cv2.drawContours(frame , [rightEyeHull] , -1 , (0,0,255) , 1)\n",
    "        \n",
    "        if ear < earThresh:\n",
    "            count += 1\n",
    "            \n",
    "            if count >= earFrames:\n",
    "                cv2.putText(frame, 'DROWSINESS DETECTED', (100,150), cv2.FONT_ITALIC, 1, (0,0,255), 1)\n",
    "                winsound.Beep(frequency , duration)\n",
    "                \n",
    "    cv2.imshow('Frame' , frame)\n",
    "    if cv2.waitKey(1) == 27:         # break if esc key is pressed\n",
    "        break\n",
    "\n",
    "# releasing the VideoCapture object\n",
    "cap.release()\n",
    "cv2.destroyAllWindows()"
   ]
  },
  {
   "cell_type": "code",
   "execution_count": 10,
   "id": "d4e501ff",
   "metadata": {},
   "outputs": [],
   "source": [
    "cap.release()\n",
    "cv2.destroyAllWindows()"
   ]
  },
  {
   "cell_type": "code",
   "execution_count": null,
   "id": "64f2c30e",
   "metadata": {},
   "outputs": [],
   "source": []
  }
 ],
 "metadata": {
  "kernelspec": {
   "display_name": "Python 3",
   "language": "python",
   "name": "python3"
  },
  "language_info": {
   "codemirror_mode": {
    "name": "ipython",
    "version": 3
   },
   "file_extension": ".py",
   "mimetype": "text/x-python",
   "name": "python",
   "nbconvert_exporter": "python",
   "pygments_lexer": "ipython3",
   "version": "3.9.4"
  }
 },
 "nbformat": 4,
 "nbformat_minor": 5
}
